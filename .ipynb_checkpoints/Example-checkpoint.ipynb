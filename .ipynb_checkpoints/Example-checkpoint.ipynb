{
 "cells": [
  {
   "cell_type": "markdown",
   "metadata": {},
   "source": [
    "# Consider swith to https://github.com/pydicom/pynetdicom\n",
    "(not now, just for the future)\n"
   ]
  },
  {
   "cell_type": "code",
   "execution_count": 2,
   "metadata": {},
   "outputs": [],
   "source": [
    "import pydicom\n",
    "import time\n",
    "\n",
    "from io import BytesIO\n",
    "from pydicom import dcmread\n",
    "from RestToolbox import SetCredentials, _SetupCredentials, DoPost, DoGet\n",
    "from multiprocessing import Pool\n",
    "\n",
    "from tqdm import tqdm"
   ]
  },
  {
   "cell_type": "code",
   "execution_count": 3,
   "metadata": {},
   "outputs": [],
   "source": [
    "# def _get_instance_file_as_dicom(instance_identifier):\n",
    "#     return from_bytes(orthanc.get_instance_file(instance_identifier))"
   ]
  },
  {
   "cell_type": "code",
   "execution_count": 4,
   "metadata": {},
   "outputs": [],
   "source": [
    "# URL = 'http://127.0.0.1:8880'\n",
    "\n",
    "\n",
    "local_url = 'http://111.11.111.11:8040' # 8040 - web-orthanc-server port, 104 - dicom server port\n",
    "remote_url = 'http://11.111.11.112:8041'\n",
    "\n",
    "SetCredentials('login', 'pass')\n",
    "# SetCredintials(None, None)"
   ]
  },
  {
   "cell_type": "markdown",
   "metadata": {},
   "source": [
    "# 1. Basic API GETs\n",
    "- Patient\n",
    "    - Study\n",
    "        - Series\n",
    "            - Instance"
   ]
  },
  {
   "cell_type": "code",
   "execution_count": 7,
   "metadata": {},
   "outputs": [],
   "source": [
    "URL = local_url"
   ]
  },
  {
   "cell_type": "code",
   "execution_count": 8,
   "metadata": {},
   "outputs": [
    {
     "name": "stdout",
     "output_type": "stream",
     "text": [
      "CPU times: user 1.43 ms, sys: 397 µs, total: 1.82 ms\n",
      "Wall time: 12.3 ms\n",
      "CPU times: user 1.89 ms, sys: 528 µs, total: 2.42 ms\n",
      "Wall time: 17.9 ms\n",
      "CPU times: user 0 ns, sys: 2.14 ms, total: 2.14 ms\n",
      "Wall time: 13.5 ms\n",
      "CPU times: user 3.75 ms, sys: 0 ns, total: 3.75 ms\n",
      "Wall time: 15 ms\n",
      "CPU times: user 3.58 ms, sys: 0 ns, total: 3.58 ms\n",
      "Wall time: 17.6 ms\n",
      "CPU times: user 4.75 ms, sys: 0 ns, total: 4.75 ms\n",
      "Wall time: 16.1 ms\n",
      "CPU times: user 2.01 ms, sys: 2.69 ms, total: 4.7 ms\n",
      "Wall time: 24.1 ms\n",
      "CPU times: user 5.53 ms, sys: 0 ns, total: 5.53 ms\n",
      "Wall time: 20.8 ms\n",
      "CPU times: user 3.37 ms, sys: 0 ns, total: 3.37 ms\n",
      "Wall time: 15.2 ms\n"
     ]
    }
   ],
   "source": [
    "%time modalities = DoGet(f'{URL}/modalities/') # Modalities are connected dicom servers\n",
    "\n",
    "%time patients = DoGet(f'{URL}/patients/')\n",
    "\n",
    "%time patient_metadata = DoGet(f'{URL}/patients/{patients[0]}')\n",
    "\n",
    "%time studies = DoGet(f'{URL}/studies/')\n",
    "\n",
    "%time study = DoGet(f'{URL}/studies/{studies[0]}')\n",
    "\n",
    "%time series = DoGet(f'{URL}/series/')\n",
    "\n",
    "%time single_series = DoGet(f'{URL}/series/{series[0]}')\n",
    "\n",
    "%time instances = DoGet(f'{URL}/instances/')\n",
    "\n",
    "%time instance_metadata = DoGet(f'{URL}/instances/{instances[0]}')"
   ]
  },
  {
   "cell_type": "code",
   "execution_count": 7,
   "metadata": {},
   "outputs": [
    {
     "name": "stdout",
     "output_type": "stream",
     "text": [
      "ExpectedNumberOfInstances None \n",
      "\n",
      "ID 8da15a5b-04ab4412-4009e1d4-cbe565e1-756b089c \n",
      "\n",
      "Instances 105 \n",
      "\n",
      "IsStable True \n",
      "\n",
      "LastUpdate 20200520T142958 \n",
      "\n",
      "MainDicomTags {'ImageOrientationPatient': '1.000000\\\\0.000000\\\\0.000000\\\\0.000000\\\\1.000000\\\\0.000000', 'Manufacturer': 'GE MEDICAL SYSTEMS', 'Modality': 'CT', 'OperatorsName': '', 'SeriesDate': '20200307', 'SeriesInstanceUID': '1.2.840.113619.2.379.35628835037280.21234.1584624297618.64', 'SeriesNumber': '3', 'SeriesTime': '130210', 'StationName': 'awpc_29026985'} \n",
      "\n",
      "ParentStudy 502ce807-53a6e816-c39d1571-c8f1b16d-35c9c5a2 \n",
      "\n",
      "Status Unknown \n",
      "\n",
      "Type Series \n",
      "\n"
     ]
    }
   ],
   "source": [
    "for key, val in single_series.items():\n",
    "    if key != 'Instances':\n",
    "        print(key, val, '\\n')\n",
    "    else:\n",
    "        print('Instances', len(val), '\\n')"
   ]
  },
  {
   "cell_type": "code",
   "execution_count": null,
   "metadata": {},
   "outputs": [],
   "source": []
  },
  {
   "cell_type": "markdown",
   "metadata": {},
   "source": [
    "# 2. Basic API POSTs\n",
    "\n",
    "- C-Echo\n",
    "- C-Find\n",
    "- C-Move\n",
    "- Orthanc retrieve (C-Move wrapper)\n",
    "- C-Store"
   ]
  },
  {
   "cell_type": "markdown",
   "metadata": {},
   "source": [
    "### `C-Echo` (dicom Ping)"
   ]
  },
  {
   "cell_type": "code",
   "execution_count": 11,
   "metadata": {},
   "outputs": [
    {
     "name": "stdout",
     "output_type": "stream",
     "text": [
      "Pinging publicdicom\n",
      "CPU times: user 4.31 ms, sys: 45 µs, total: 4.35 ms\n",
      "Wall time: 637 ms\n"
     ]
    },
    {
     "data": {
      "text/plain": [
       "{}"
      ]
     },
     "execution_count": 11,
     "metadata": {},
     "output_type": "execute_result"
    }
   ],
   "source": [
    "URL = local_url\n",
    "modalities = DoGet(f'{URL}/modalities/')\n",
    "\n",
    "# Echo to connected modality\n",
    "\n",
    "print(f'Pinging {modalities[0]}')\n",
    "%time DoPost(f'{URL}/modalities/{modalities[2]}/echo')"
   ]
  },
  {
   "cell_type": "markdown",
   "metadata": {},
   "source": [
    "### `C-Find`  (query on remote machine)"
   ]
  },
  {
   "cell_type": "code",
   "execution_count": 12,
   "metadata": {},
   "outputs": [
    {
     "name": "stdout",
     "output_type": "stream",
     "text": [
      "['publicdicom', 'remote-neuro-1', 'remote-neuro-3']\n"
     ]
    }
   ],
   "source": [
    "URL = local_url\n",
    "modalities = DoGet(f'{URL}/modalities/')\n",
    "print(modalities)\n",
    "modality = modalities[2]"
   ]
  },
  {
   "cell_type": "code",
   "execution_count": 13,
   "metadata": {},
   "outputs": [
    {
     "name": "stdout",
     "output_type": "stream",
     "text": [
      "{'ID': 'afe2e9e9-3aa8-42cb-ab7b-705c7cd4c29d', 'Path': '/queries/afe2e9e9-3aa8-42cb-ab7b-705c7cd4c29d'}\n"
     ]
    }
   ],
   "source": [
    "# Make a query to remote modality\n",
    "\n",
    "data = {\n",
    "    'Level': 'Series', #  Study, Series or Instance\n",
    "    'Query':{\n",
    "        'PatientName': 'patient_id'\n",
    "    }\n",
    "}\n",
    "\n",
    "status = DoPost(f'{URL}/modalities/{modalities[2]}/query', data=data)\n",
    "print(status)"
   ]
  },
  {
   "cell_type": "code",
   "execution_count": 11,
   "metadata": {},
   "outputs": [
    {
     "name": "stdout",
     "output_type": "stream",
     "text": [
      "Total number of serieses for this PatientName: 7\n",
      "\n",
      "Example series metadata: \n",
      "\n",
      "0008,0005 {'Name': 'SpecificCharacterSet', 'Type': 'String', 'Value': 'ISO_IR 100'}\n",
      "0008,0050 {'Name': 'AccessionNumber', 'Type': 'String', 'Value': ''}\n",
      "0008,0052 {'Name': 'QueryRetrieveLevel', 'Type': 'String', 'Value': 'SERIES'}\n",
      "0010,0010 {'Name': 'PatientName', 'Type': 'String', 'Value': 'patient_017'}\n",
      "0010,0020 {'Name': 'PatientID', 'Type': 'String', 'Value': 'AW410189670.462.1584624297'}\n",
      "0020,000d {'Name': 'StudyInstanceUID', 'Type': 'String', 'Value': '1.2.840.113619.2.379.35628835037280.21234.1584624297508.3'}\n",
      "0020,000e {'Name': 'SeriesInstanceUID', 'Type': 'String', 'Value': '1.2.840.113619.2.379.35628835037280.21234.1584624297508.4'}\n",
      "\n",
      "SeriesInstanceUID: 1.2.840.113619.2.379.35628835037280.21234.1584624297508.4\n"
     ]
    }
   ],
   "source": [
    "# Get the content of the query\n",
    "\n",
    "answers = DoGet(f'{URL}/queries/{status[\"ID\"]}/answers/')\n",
    "\n",
    "print(f'Total number of serieses for this PatientName: {len(answers)}\\n')\n",
    "\n",
    "metadata_series = DoGet(f'{URL}/queries/{status[\"ID\"]}/answers/{answers[5]}/content')\n",
    "print('Example series metadata: \\n')\n",
    "for key, value in metadata_series.items():\n",
    "    print(key, value)\n",
    "    \n",
    "print(f'\\nSeriesInstanceUID: {metadata_series[\"0020,000e\"][\"Value\"]}')\n",
    "seriesUID = metadata_series[\"0020,000e\"][\"Value\"]\n",
    "studyUID = metadata_series['0020,000d']['Value']"
   ]
  },
  {
   "cell_type": "markdown",
   "metadata": {},
   "source": [
    "### `C-Move` (move from remote to local v1)"
   ]
  },
  {
   "cell_type": "code",
   "execution_count": 12,
   "metadata": {},
   "outputs": [
    {
     "name": "stdout",
     "output_type": "stream",
     "text": [
      "Modality: remote-neuro-3\n",
      "StudyInstanceUID: 1.2.840.113619.2.379.35628835037280.21234.1584624297508.3\n"
     ]
    }
   ],
   "source": [
    "print(f'Modality: {modality}\\nStudyInstanceUID: {studyUID}')"
   ]
  },
  {
   "cell_type": "code",
   "execution_count": 13,
   "metadata": {},
   "outputs": [
    {
     "data": {
      "text/plain": [
       "{}"
      ]
     },
     "execution_count": 13,
     "metadata": {},
     "output_type": "execute_result"
    }
   ],
   "source": [
    "# Only for Study level (???)\n",
    "data = {\n",
    "            \"Level\" : \"Study\",\n",
    "            \"Resources\" : [\n",
    "              {\n",
    "                \"StudyInstanceUID\": studyUID\n",
    "              }\n",
    "            ],\n",
    "            \"Timeout\": 60\n",
    "          }\n",
    "\n",
    "\n",
    "DoPost(f'{URL}/modalities/{modality}/move', data=data)"
   ]
  },
  {
   "cell_type": "markdown",
   "metadata": {},
   "source": [
    "### Orthanc `retrieve` (move from remote to local v2)"
   ]
  },
  {
   "cell_type": "code",
   "execution_count": 14,
   "metadata": {},
   "outputs": [
    {
     "name": "stdout",
     "output_type": "stream",
     "text": [
      "{'ID': '73803335-27a0-4e5f-98e3-80861d9a27e8', 'Path': '/queries/73803335-27a0-4e5f-98e3-80861d9a27e8'}\n"
     ]
    }
   ],
   "source": [
    "data = {\n",
    "    'Level': 'Series', #  Study, Series or Instance\n",
    "    'Query':{\n",
    "        'PatientName': 'patient_id'\n",
    "    }\n",
    "}\n",
    "\n",
    "status = DoPost(f'{URL}/modalities/{modalities[2]}/query', data=data)\n",
    "print(status)\n",
    "query = status['ID']"
   ]
  },
  {
   "cell_type": "code",
   "execution_count": 15,
   "metadata": {},
   "outputs": [],
   "source": [
    "URL = local_url\n",
    "\n",
    "status_retrieve = DoPost(f'{URL}/queries/{query}/retrieve', data={'TargetAet':'REMOTE_1'})"
   ]
  },
  {
   "cell_type": "code",
   "execution_count": 30,
   "metadata": {},
   "outputs": [
    {
     "data": {
      "text/plain": [
       "{'Description': 'REST API',\n",
       " 'LocalAet': 'NEURO_REMOTE_1',\n",
       " 'Query': [{'0008,0050': '',\n",
       "   '0008,0052': 'SERIES',\n",
       "   '0010,0020': 'AW843555918.608.1584623966',\n",
       "   '0020,000d': '1.2.840.113619.2.379.35628835037280.3278.1584623966651.3',\n",
       "   '0020,000e': '1.2.840.113619.2.379.35628835037280.3278.1584623966775.72'},\n",
       "  {'0008,0050': '',\n",
       "   '0008,0052': 'SERIES',\n",
       "   '0010,0020': 'AW410189670.462.1584624297',\n",
       "   '0020,000d': '1.2.840.113619.2.379.35628835037280.21234.1584624297508.3',\n",
       "   '0020,000e': '1.2.840.113619.2.379.35628835037280.21234.1584624297514.10'},\n",
       "  {'0008,0050': '',\n",
       "   '0008,0052': 'SERIES',\n",
       "   '0010,0020': 'AW410189670.462.1584624297',\n",
       "   '0020,000d': '1.2.840.113619.2.379.35628835037280.21234.1584624297508.3',\n",
       "   '0020,000e': '1.2.840.113619.2.379.35628835037280.21234.1584624297618.64'},\n",
       "  {'0008,0050': '',\n",
       "   '0008,0052': 'SERIES',\n",
       "   '0010,0020': 'AW843555918.608.1584623966',\n",
       "   '0020,000d': '1.2.840.113619.2.379.35628835037280.3278.1584623966651.3',\n",
       "   '0020,000e': '1.2.840.113619.2.379.35628835037280.3278.1584623966651.4'},\n",
       "  {'0008,0050': '',\n",
       "   '0008,0052': 'SERIES',\n",
       "   '0010,0020': 'AW843555918.608.1584623966',\n",
       "   '0020,000d': '1.2.840.113619.2.379.35628835037280.3278.1584623966651.3',\n",
       "   '0020,000e': '1.2.840.113619.2.379.35628835037280.3278.1584623967009.194'},\n",
       "  {'0008,0050': '',\n",
       "   '0008,0052': 'SERIES',\n",
       "   '0010,0020': 'AW410189670.462.1584624297',\n",
       "   '0020,000d': '1.2.840.113619.2.379.35628835037280.21234.1584624297508.3',\n",
       "   '0020,000e': '1.2.840.113619.2.379.35628835037280.21234.1584624297508.4'},\n",
       "  {'0008,0050': '',\n",
       "   '0008,0052': 'SERIES',\n",
       "   '0010,0020': 'AW843555918.608.1584623966',\n",
       "   '0020,000d': '1.2.840.113619.2.379.35628835037280.3278.1584623966651.3',\n",
       "   '0020,000e': '1.2.840.113619.2.379.35628835037280.3278.1584623966657.10'}],\n",
       " 'RemoteAet': 'NEURO_REMOTE_3'}"
      ]
     },
     "execution_count": 30,
     "metadata": {},
     "output_type": "execute_result"
    }
   ],
   "source": [
    "status_retrieve"
   ]
  },
  {
   "cell_type": "code",
   "execution_count": 33,
   "metadata": {},
   "outputs": [
    {
     "name": "stdout",
     "output_type": "stream",
     "text": [
      "1.2.840.113619.2.379.35628835037280.3278.1584623966775.72\n",
      "1.2.840.113619.2.379.35628835037280.21234.1584624297514.10\n",
      "1.2.840.113619.2.379.35628835037280.21234.1584624297618.64\n",
      "1.2.840.113619.2.379.35628835037280.3278.1584623966651.4\n",
      "1.2.840.113619.2.379.35628835037280.3278.1584623967009.194\n",
      "1.2.840.113619.2.379.35628835037280.21234.1584624297508.4\n",
      "1.2.840.113619.2.379.35628835037280.3278.1584623966657.10\n"
     ]
    }
   ],
   "source": [
    "for result in status_retrieve['Query']:\n",
    "    print(result['0020,000e'])"
   ]
  },
  {
   "cell_type": "markdown",
   "metadata": {},
   "source": [
    "### `C-Store` (send from local to remote)"
   ]
  },
  {
   "cell_type": "code",
   "execution_count": 7,
   "metadata": {},
   "outputs": [
    {
     "name": "stdout",
     "output_type": "stream",
     "text": [
      "b6711441-a6921cbc-7a60deb2-345f9000-3ca2bb94\n",
      "AW1394169807.675.1584621911 patient_010\n"
     ]
    }
   ],
   "source": [
    "URL = local_url\n",
    "patients = DoGet(f'{URL}/patients/')\n",
    "patient_metadata = DoGet(f'{URL}/patients/{patients[0]}')\n",
    "print(patient_metadata['ID'])\n",
    "print(patient_metadata['MainDicomTags']['PatientID'], patient_metadata['MainDicomTags']['PatientName'])"
   ]
  },
  {
   "cell_type": "code",
   "execution_count": 18,
   "metadata": {},
   "outputs": [],
   "source": [
    "data = {\n",
    "    'Resources': [patient_metadata['ID']]\n",
    "}\n",
    "status_store = DoPost(f'{URL}/modalities/{modalities[2]}/store', data=data)"
   ]
  },
  {
   "cell_type": "code",
   "execution_count": 19,
   "metadata": {},
   "outputs": [
    {
     "name": "stdout",
     "output_type": "stream",
     "text": [
      "{'Description': 'REST API', 'FailedInstancesCount': 0, 'InstancesCount': 481, 'LocalAet': 'NEURO_REMOTE_1', 'ParentResources': ['aef62b3b-234d43b3-74ee0ad2-8b3623b0-d2bee2a6'], 'RemoteAet': 'NEURO_REMOTE_3'}\n"
     ]
    }
   ],
   "source": [
    "print(status_store)"
   ]
  },
  {
   "cell_type": "code",
   "execution_count": 20,
   "metadata": {},
   "outputs": [
    {
     "name": "stdout",
     "output_type": "stream",
     "text": [
      "patient_017\n",
      "patient_017\n",
      "patient_018\n",
      "patient_018\n",
      "patient_018\n",
      "patient_016\n",
      "patient_016\n",
      "patient_013\n"
     ]
    }
   ],
   "source": [
    "URL = remote_url\n",
    "patients = DoGet(f'{URL}/patients/')\n",
    "for p in patients:\n",
    "    patient_metadata = DoGet(f'{URL}/patients/{p}')\n",
    "    print(patient_metadata['MainDicomTags']['PatientName'])"
   ]
  },
  {
   "cell_type": "code",
   "execution_count": 9,
   "metadata": {},
   "outputs": [],
   "source": [
    "URL = local_url\n",
    "series = DoGet(f'{URL}/series/')\n",
    "series_metadata = DoGet(f'{URL}/series/{patients[0]}')\n",
    "# print(patient_metadata['ID'])\n",
    "# print(patient_metadata['MainDicomTags']['PatientID'], patient_metadata['MainDicomTags']['PatientName'])"
   ]
  },
  {
   "cell_type": "code",
   "execution_count": 11,
   "metadata": {},
   "outputs": [
    {
     "data": {
      "text/plain": [
       "'1.2.840.113619.2.379.35628835037280.2450.1584621911725.10'"
      ]
     },
     "execution_count": 11,
     "metadata": {},
     "output_type": "execute_result"
    }
   ],
   "source": [
    "series_metadata['MainDicomTags']['SeriesInstanceUID']"
   ]
  },
  {
   "cell_type": "code",
   "execution_count": 13,
   "metadata": {},
   "outputs": [],
   "source": [
    "from depricated_sync_api import send_series"
   ]
  },
  {
   "cell_type": "code",
   "execution_count": 14,
   "metadata": {},
   "outputs": [],
   "source": [
    "from pydicom import dcmread"
   ]
  },
  {
   "cell_type": "code",
   "execution_count": null,
   "metadata": {},
   "outputs": [],
   "source": [
    "send_series()"
   ]
  },
  {
   "cell_type": "markdown",
   "metadata": {},
   "source": [
    "# 3. Pick specific series and download all its instances from local dicom-server"
   ]
  },
  {
   "cell_type": "code",
   "execution_count": 22,
   "metadata": {},
   "outputs": [],
   "source": [
    "def from_bytes(byte_sequence):\n",
    "    \"\"\"Converts bytes sequence to pydicom.dataset.FileDataset.\n",
    "    Raise InvalidDicomError if it is not a valid DICOM file\"\"\"\n",
    "    return dcmread(BytesIO(byte_sequence))\n",
    "\n",
    "def get_dcm(instance, URL='http://127.0.0.1:8880'):\n",
    "    return from_bytes(DoGet(f'{URL}/instances/{instance}/file'))"
   ]
  },
  {
   "cell_type": "code",
   "execution_count": 29,
   "metadata": {},
   "outputs": [
    {
     "name": "stderr",
     "output_type": "stream",
     "text": [
      "100%|██████████| 121/121 [12:30<00:00,  6.20s/it]\n"
     ]
    }
   ],
   "source": [
    "# Sequential \n",
    "\n",
    "URL = local_url\n",
    "dicoms = []\n",
    "series = DoGet(f'{URL}/series/')\n",
    "\n",
    "for instance in tqdm(DoGet(f'{URL}/series/{series[8]}')['Instances']):\n",
    "    file = get_dcm(instance, URL=local_url)\n",
    "    dicoms.append(file)"
   ]
  },
  {
   "cell_type": "code",
   "execution_count": 24,
   "metadata": {},
   "outputs": [
    {
     "ename": "ConnectionRefusedError",
     "evalue": "[Errno 111] Connection refused",
     "output_type": "error",
     "traceback": [
      "\u001b[0;31m---------------------------------------------------------------------------\u001b[0m",
      "\u001b[0;31mRemoteTraceback\u001b[0m                           Traceback (most recent call last)",
      "\u001b[0;31mRemoteTraceback\u001b[0m: \n\"\"\"\nTraceback (most recent call last):\n  File \"/home/anvar/miniconda3/lib/python3.7/multiprocessing/pool.py\", line 121, in worker\n    result = (True, func(*args, **kwds))\n  File \"/home/anvar/miniconda3/lib/python3.7/multiprocessing/pool.py\", line 44, in mapstar\n    return list(map(*args))\n  File \"<ipython-input-22-b92c5a49da09>\", line 7, in get_dcm\n    return from_bytes(DoGet(f'{URL}/instances/{instance}/file'))\n  File \"/home/anvar/work/COVID/covid/mvp/dicom_server/RestToolbox.py\", line 65, in DoGet\n    resp, content = h.request(_ComputeGetUri(uri, data), 'GET')\n  File \"/home/anvar/miniconda3/lib/python3.7/site-packages/httplib2/__init__.py\", line 1991, in request\n    cachekey,\n  File \"/home/anvar/miniconda3/lib/python3.7/site-packages/httplib2/__init__.py\", line 1651, in _request\n    conn, request_uri, method, body, headers\n  File \"/home/anvar/miniconda3/lib/python3.7/site-packages/httplib2/__init__.py\", line 1557, in _conn_request\n    conn.connect()\n  File \"/home/anvar/miniconda3/lib/python3.7/site-packages/httplib2/__init__.py\", line 1236, in connect\n    raise socket_err\n  File \"/home/anvar/miniconda3/lib/python3.7/site-packages/httplib2/__init__.py\", line 1210, in connect\n    self.sock.connect((self.host, self.port) + sa[2:])\nConnectionRefusedError: [Errno 111] Connection refused\n\"\"\"",
      "\nThe above exception was the direct cause of the following exception:\n",
      "\u001b[0;31mConnectionRefusedError\u001b[0m                    Traceback (most recent call last)",
      "\u001b[0;32m<timed exec>\u001b[0m in \u001b[0;36m<module>\u001b[0;34m\u001b[0m\n",
      "\u001b[0;32m~/miniconda3/lib/python3.7/multiprocessing/pool.py\u001b[0m in \u001b[0;36mmap\u001b[0;34m(self, func, iterable, chunksize)\u001b[0m\n\u001b[1;32m    266\u001b[0m         \u001b[0;32min\u001b[0m \u001b[0ma\u001b[0m \u001b[0mlist\u001b[0m \u001b[0mthat\u001b[0m \u001b[0;32mis\u001b[0m \u001b[0mreturned\u001b[0m\u001b[0;34m.\u001b[0m\u001b[0;34m\u001b[0m\u001b[0;34m\u001b[0m\u001b[0m\n\u001b[1;32m    267\u001b[0m         '''\n\u001b[0;32m--> 268\u001b[0;31m         \u001b[0;32mreturn\u001b[0m \u001b[0mself\u001b[0m\u001b[0;34m.\u001b[0m\u001b[0m_map_async\u001b[0m\u001b[0;34m(\u001b[0m\u001b[0mfunc\u001b[0m\u001b[0;34m,\u001b[0m \u001b[0miterable\u001b[0m\u001b[0;34m,\u001b[0m \u001b[0mmapstar\u001b[0m\u001b[0;34m,\u001b[0m \u001b[0mchunksize\u001b[0m\u001b[0;34m)\u001b[0m\u001b[0;34m.\u001b[0m\u001b[0mget\u001b[0m\u001b[0;34m(\u001b[0m\u001b[0;34m)\u001b[0m\u001b[0;34m\u001b[0m\u001b[0;34m\u001b[0m\u001b[0m\n\u001b[0m\u001b[1;32m    269\u001b[0m \u001b[0;34m\u001b[0m\u001b[0m\n\u001b[1;32m    270\u001b[0m     \u001b[0;32mdef\u001b[0m \u001b[0mstarmap\u001b[0m\u001b[0;34m(\u001b[0m\u001b[0mself\u001b[0m\u001b[0;34m,\u001b[0m \u001b[0mfunc\u001b[0m\u001b[0;34m,\u001b[0m \u001b[0miterable\u001b[0m\u001b[0;34m,\u001b[0m \u001b[0mchunksize\u001b[0m\u001b[0;34m=\u001b[0m\u001b[0;32mNone\u001b[0m\u001b[0;34m)\u001b[0m\u001b[0;34m:\u001b[0m\u001b[0;34m\u001b[0m\u001b[0;34m\u001b[0m\u001b[0m\n",
      "\u001b[0;32m~/miniconda3/lib/python3.7/multiprocessing/pool.py\u001b[0m in \u001b[0;36mget\u001b[0;34m(self, timeout)\u001b[0m\n\u001b[1;32m    655\u001b[0m             \u001b[0;32mreturn\u001b[0m \u001b[0mself\u001b[0m\u001b[0;34m.\u001b[0m\u001b[0m_value\u001b[0m\u001b[0;34m\u001b[0m\u001b[0;34m\u001b[0m\u001b[0m\n\u001b[1;32m    656\u001b[0m         \u001b[0;32melse\u001b[0m\u001b[0;34m:\u001b[0m\u001b[0;34m\u001b[0m\u001b[0;34m\u001b[0m\u001b[0m\n\u001b[0;32m--> 657\u001b[0;31m             \u001b[0;32mraise\u001b[0m \u001b[0mself\u001b[0m\u001b[0;34m.\u001b[0m\u001b[0m_value\u001b[0m\u001b[0;34m\u001b[0m\u001b[0;34m\u001b[0m\u001b[0m\n\u001b[0m\u001b[1;32m    658\u001b[0m \u001b[0;34m\u001b[0m\u001b[0m\n\u001b[1;32m    659\u001b[0m     \u001b[0;32mdef\u001b[0m \u001b[0m_set\u001b[0m\u001b[0;34m(\u001b[0m\u001b[0mself\u001b[0m\u001b[0;34m,\u001b[0m \u001b[0mi\u001b[0m\u001b[0;34m,\u001b[0m \u001b[0mobj\u001b[0m\u001b[0;34m)\u001b[0m\u001b[0;34m:\u001b[0m\u001b[0;34m\u001b[0m\u001b[0;34m\u001b[0m\u001b[0m\n",
      "\u001b[0;31mConnectionRefusedError\u001b[0m: [Errno 111] Connection refused"
     ]
    }
   ],
   "source": [
    "# Parralel\n",
    "instances = DoGet(f'{URL}/series/{series[8]}')['Instances']\n",
    "with Pool(8) as p:\n",
    "    %time dicoms_parralel = p.map(get_dcm, instances)"
   ]
  },
  {
   "cell_type": "code",
   "execution_count": null,
   "metadata": {},
   "outputs": [],
   "source": [
    "print(len(dicoms_parralel))"
   ]
  },
  {
   "cell_type": "markdown",
   "metadata": {},
   "source": [
    "# 4. From Python to dicom-server"
   ]
  },
  {
   "cell_type": "code",
   "execution_count": 6,
   "metadata": {},
   "outputs": [],
   "source": [
    "from io import BytesIO\n",
    "\n",
    "from pydicom import dcmread, dcmwrite\n",
    "from pydicom.filebase import DicomFileLike\n",
    "\n",
    "def to_bytes(dcm: pydicom.dataset.FileDataset):\n",
    "    \"\"\"Converts dicom object to byte sequence, \n",
    "    source https://pydicom.github.io/pydicom/dev/auto_examples/memory_dataset.html\"\"\"\n",
    "    with BytesIO() as buffer:\n",
    "        memory_dataset = DicomFileLike(buffer)  # create a DicomFileLike object that has some properties of DataSet\n",
    "        dcmwrite(memory_dataset, dcm)  # write the dataset to the DicomFileLike object\n",
    "        memory_dataset.seek(0)  # to read from the object, you have to rewind it\n",
    "        return memory_dataset.read() # read the contents as bytes\n",
    "    \n",
    "import httplib2\n",
    "\n",
    "def _to_dicom_server(dcm, URL='http://127.0.0.1:8880'):\n",
    "    \"\"\"Send a dicom file to local dicom server.\"\"\"\n",
    "    \n",
    "    h = httplib2.Http()\n",
    "    _SetupCredentials(h)  \n",
    "    \n",
    "    dcm_as_bytes = to_bytes(dcm)\n",
    "    url = f'{URL}/instances'\n",
    "    headers = { 'content-type' : 'application/dicom' }\n",
    "    resp, content = h.request(url, 'POST', body = dcm_as_bytes, headers = headers)\n",
    "    \n",
    "    return resp, content\n",
    "\n",
    "def series_to_dicom_server(dcm_list, url):\n",
    "    h = httplib2.Http()\n",
    "    SetCredentials('login', 'pass')\n",
    "    url = f'{url}/instances'\n",
    "    headers = { 'content-type' : 'application/dicom' }\n",
    "    \n",
    "    for dcm in dcm_list:\n",
    "        dcm_as_bytes = to_bytes(dcm)\n",
    "        resp, content = h.request(url, 'POST', body = dcm_as_bytes, headers = headers)"
   ]
  },
  {
   "cell_type": "code",
   "execution_count": 75,
   "metadata": {},
   "outputs": [],
   "source": [
    "dcm = dcmread('path/to/dcm/file')\n",
    "%time to_dicom_server"
   ]
  },
  {
   "cell_type": "code",
   "execution_count": 61,
   "metadata": {},
   "outputs": [],
   "source": [
    "from depricated_sync_api import get_series_remote"
   ]
  },
  {
   "cell_type": "code",
   "execution_count": null,
   "metadata": {},
   "outputs": [],
   "source": [
    "get_series_remote()"
   ]
  },
  {
   "cell_type": "code",
   "execution_count": 55,
   "metadata": {},
   "outputs": [],
   "source": [
    "source_modality = 'remote-3'\n",
    "target_modality = 'REMOTE_1'\n",
    "patient_id = 'patient_id'\n",
    "url = local_url\n",
    "n_jobs = 8"
   ]
  },
  {
   "cell_type": "code",
   "execution_count": 56,
   "metadata": {},
   "outputs": [
    {
     "name": "stdout",
     "output_type": "stream",
     "text": [
      "CPU times: user 2.07 s, sys: 1.51 s, total: 3.59 s\n",
      "Wall time: 3min 9s\n"
     ]
    }
   ],
   "source": [
    "%time result = get_series_remote(patient_id, target_modality, source_modality, url, n_jobs)"
   ]
  },
  {
   "cell_type": "code",
   "execution_count": 57,
   "metadata": {},
   "outputs": [
    {
     "data": {
      "text/plain": [
       "7"
      ]
     },
     "execution_count": 57,
     "metadata": {},
     "output_type": "execute_result"
    }
   ],
   "source": [
    "len(result)"
   ]
  },
  {
   "cell_type": "code",
   "execution_count": 59,
   "metadata": {},
   "outputs": [
    {
     "data": {
      "text/plain": [
       "121"
      ]
     },
     "execution_count": 59,
     "metadata": {},
     "output_type": "execute_result"
    }
   ],
   "source": [
    "len(result[0])"
   ]
  },
  {
   "cell_type": "code",
   "execution_count": null,
   "metadata": {},
   "outputs": [],
   "source": []
  },
  {
   "cell_type": "markdown",
   "metadata": {},
   "source": [
    "# 5. Raw, garbage, etc"
   ]
  },
  {
   "cell_type": "code",
   "execution_count": null,
   "metadata": {},
   "outputs": [],
   "source": []
  },
  {
   "cell_type": "code",
   "execution_count": null,
   "metadata": {},
   "outputs": [],
   "source": [
    "# # Loop over the patients\n",
    "# for patient in RestToolbox.DoGet(f'{URL}/patients'):\n",
    "#     infos = RestToolbox.DoGet(f'{URL}/patients/{patient}')\n",
    "#     name = infos['MainDicomTags']['PatientName'].lower()\n",
    "#     print(f'Downloading {name}')\n",
    "#     %time zipContent.append(RestToolbox.DoGet(f'{URL}/patients/{patient}/archive'))\n",
    "# #     with open(os.path.join('/tmp', name + '.zip'), 'wb') as f:\n",
    "# #         f.write(zipContent)"
   ]
  },
  {
   "cell_type": "code",
   "execution_count": null,
   "metadata": {},
   "outputs": [],
   "source": [
    "# from zipfile import ZipFile"
   ]
  },
  {
   "cell_type": "code",
   "execution_count": null,
   "metadata": {},
   "outputs": [],
   "source": [
    "# file = ZipFile(BytesIO(zipContent[1]))"
   ]
  },
  {
   "cell_type": "code",
   "execution_count": null,
   "metadata": {},
   "outputs": [],
   "source": [
    "# res = file.extractall(path='/home/anvar/orthanc-test/2')"
   ]
  },
  {
   "cell_type": "code",
   "execution_count": null,
   "metadata": {},
   "outputs": [],
   "source": [
    "# file.filelist[0]"
   ]
  }
 ],
 "metadata": {
  "kernelspec": {
   "display_name": "Python 3",
   "language": "python",
   "name": "python3"
  },
  "language_info": {
   "codemirror_mode": {
    "name": "ipython",
    "version": 3
   },
   "file_extension": ".py",
   "mimetype": "text/x-python",
   "name": "python",
   "nbconvert_exporter": "python",
   "pygments_lexer": "ipython3",
   "version": "3.7.6"
  }
 },
 "nbformat": 4,
 "nbformat_minor": 4
}
